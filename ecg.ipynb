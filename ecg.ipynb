{
 "cells": [
  {
   "cell_type": "code",
   "execution_count": 9,
   "id": "17ef50ca-7417-4658-b48b-b84e9df0d55d",
   "metadata": {},
   "outputs": [],
   "source": [
    "import pandas as pd\n",
    "import numpy as np\n",
    "from collections import Counter\n",
    "\n",
    "from imblearn.over_sampling import RandomOverSampler\n",
    "from sklearn.model_selection import train_test_split\n",
    "\n",
    "import torch\n",
    "import torch.nn as nn\n",
    "import torch.optim as optim\n",
    "from torch.utils.data import TensorDataset, DataLoader\n",
    "\n",
    "from utils import anderson, count_parameters, epoch, epoch_eval\n",
    "from models import ResBlock, ODEfunc, ODENet, DEQfunc, DEQNet\n",
    "\n",
    "device = torch.device(\"cuda:0\" if torch.cuda.is_available() else \"cpu\")\n",
    "torch.manual_seed(0);"
   ]
  },
  {
   "cell_type": "code",
   "execution_count": 5,
   "id": "c6a53538-8f22-4536-bba8-10360ce487f1",
   "metadata": {},
   "outputs": [],
   "source": [
    "def get_model(net, device, n_channels=32, n_inner_channels=32, kernel_size=3, \n",
    "              num_groups=8, adam=False, **kwargs):\n",
    "    \"\"\"\n",
    "    Initialize ResNet, ODENet, or DEQNet with optimizer.\n",
    "    \"\"\"\n",
    "    downsampling_layers = [\n",
    "        nn.Conv1d(1, n_channels, kernel_size=3, bias=True, padding=\"same\"),\n",
    "        nn.BatchNorm1d(n_channels)\n",
    "    ]\n",
    "\n",
    "    if net == 'ResNet':\n",
    "        feature_layers = [ResBlock(n_channels, n_inner_channels, kernel_size, num_groups) for _ in range(1)]\n",
    "    elif net == 'ODENet':\n",
    "        feature_layers = [ODENet(ODEfunc(n_channels, n_inner_channels, kernel_size, num_groups), **kwargs)]\n",
    "    elif net == 'DEQNet':\n",
    "        feature_layers = [DEQNet(DEQfunc(n_channels, n_inner_channels, kernel_size, num_groups), anderson, **kwargs)]\n",
    "    else:\n",
    "        return 0\n",
    "        \n",
    "    fc_layers = [\n",
    "        nn.BatchNorm1d(n_channels), \n",
    "        nn.ReLU(inplace=True), \n",
    "        nn.AdaptiveAvgPool1d(1), \n",
    "        nn.Flatten(), \n",
    "        nn.Linear(n_channels, 5)\n",
    "    ]\n",
    "\n",
    "    model = nn.Sequential(*downsampling_layers, *feature_layers, *fc_layers)\n",
    "\n",
    "    opt = optim.Adam(model.parameters(), lr=1e-3) if adam else optim.SGD(model.parameters(), lr=0.1, momentum=0.9)\n",
    "\n",
    "    return model.to(device), opt"
   ]
  },
  {
   "cell_type": "code",
   "execution_count": 10,
   "id": "52345f56-e619-4aaa-a3fc-44729252afbb",
   "metadata": {},
   "outputs": [
    {
     "name": "stdout",
     "output_type": "stream",
     "text": [
      "Train before: Counter({0: 88069, 2: 7042, 4: 3625, 1: 3016, 3: 760})\n",
      "Test before: Counter({0: 800, 1: 800, 2: 800, 4: 800, 3: 300})\n",
      "\n",
      "Train oversampled: Counter({0: 88069, 1: 88069, 2: 88069, 4: 88069, 3: 88069})\n",
      "\n",
      "Train after: Counter({0: 79358, 3: 79269, 4: 79264, 1: 79254, 2: 79165})\n",
      "Val after: Counter({2: 8904, 1: 8815, 4: 8805, 3: 8800, 0: 8711})\n",
      "Test after: Counter({0: 800, 1: 800, 2: 800, 4: 800, 3: 300})\n"
     ]
    }
   ],
   "source": [
    "np.random.seed(42)\n",
    "path = 'data/'\n",
    "\n",
    "# Load MIT-BIH data\n",
    "mit_train = pd.read_csv(path + \"mitdb_360_train.csv\", header=None)\n",
    "mit_test = pd.read_csv(path + \"mitdb_360_test.csv\", header=None)\n",
    "\n",
    "y_train = mit_train[360]\n",
    "X_train = mit_train.loc[:, :359]\n",
    "y_test = mit_test[360]\n",
    "X_test = mit_test.loc[:, :359]\n",
    "print('Train before:', Counter(y_train))\n",
    "print('Test before:', Counter(y_test), end='\\n\\n')\n",
    "\n",
    "# Oversample training set\n",
    "ros = RandomOverSampler(random_state=0)\n",
    "X_train_oversampled, y_train_oversampled = ros.fit_resample(X_train, y_train)\n",
    "print('Train oversampled:', Counter(y_train_oversampled), end='\\n\\n')\n",
    "\n",
    "# Split a validation set\n",
    "X_train, X_val, y_train, y_val = train_test_split(\n",
    "                                    X_train_oversampled, \n",
    "                                    y_train_oversampled, \n",
    "                                    test_size=0.1, \n",
    "                                    random_state=42)\n",
    "print('Train after:', Counter(y_train))\n",
    "print('Val after:', Counter(y_val))\n",
    "print('Test after:', Counter(y_test))\n",
    "\n",
    "# Convert to 3D tensor\n",
    "X_train, y_train, X_val, y_val, X_test, y_test = map(\n",
    "    torch.from_numpy, \n",
    "    (X_train.values, y_train.values, \n",
    "     X_val.values, y_val.values, \n",
    "     X_test.values, y_test.values)\n",
    ")\n",
    "X_train = X_train.unsqueeze(1).float()\n",
    "X_val = X_val.unsqueeze(1).float()\n",
    "X_test = X_test.unsqueeze(1).float()\n",
    "y_train = y_train.long()\n",
    "y_val = y_val.long()\n",
    "y_test = y_test.long()\n",
    "\n",
    "# Batch size\n",
    "bs = 128\n",
    "\n",
    "# Dataloaders\n",
    "train_ds = TensorDataset(X_train, y_train)\n",
    "train_dl = DataLoader(train_ds, batch_size=bs, shuffle=True, num_workers=8)\n",
    "val_ds = TensorDataset(X_val, y_val)\n",
    "val_dl = DataLoader(val_ds, batch_size=bs * 2, shuffle=False, num_workers=8)\n",
    "test_ds = TensorDataset(X_test, y_test)\n",
    "test_dl = DataLoader(test_ds, batch_size=bs * 2, shuffle=False, num_workers=8)"
   ]
  },
  {
   "cell_type": "code",
   "execution_count": null,
   "id": "8b7c5769-d0c8-4357-a72a-b4821091626d",
   "metadata": {},
   "outputs": [],
   "source": [
    "# Initialize ResNet\n",
    "resnet, resnetopt = get_model(net='ResNet', device=device,\n",
    "                              n_channels=32, n_inner_channels=32, \n",
    "                              kernel_size=3, num_groups=8, adam=True)\n",
    "\n",
    "# Training options\n",
    "max_epochs = 15\n",
    "scheduler = optim.lr_scheduler.ReduceLROnPlateau(resnetopt, mode='min', factor=0.1, patience=5)\n",
    "\n",
    "# Training loop\n",
    "for i in range(max_epochs):\n",
    "    epoch(train_dl, resnet, device, resnetopt, scheduler, epoch=i+1)\n",
    "    epoch_eval(val_dl, resnet, device)"
   ]
  },
  {
   "cell_type": "code",
   "execution_count": 22,
   "id": "0d9ba6c6-62e3-489b-ac5e-c2c19854a901",
   "metadata": {},
   "outputs": [
    {
     "name": "stdout",
     "output_type": "stream",
     "text": [
      "Number of Parameters: 6693\n",
      "\n",
      "Testing\n",
      "    Test acc: 0.96\n",
      "    Test loss: 0.122\n",
      "              precision    recall  f1-score   support\n",
      "\n",
      "           0       0.94      0.93      0.94       800\n",
      "           1       0.96      0.95      0.95       800\n",
      "           2       0.98      0.95      0.96       800\n",
      "           3       0.86      1.00      0.92       300\n",
      "           4       1.00      1.00      1.00       800\n",
      "\n",
      "    accuracy                           0.96      3500\n",
      "   macro avg       0.95      0.96      0.96      3500\n",
      "weighted avg       0.96      0.96      0.96      3500\n",
      "\n",
      "[[746  28   9  17   0]\n",
      " [ 39 758   2   1   0]\n",
      " [  9   3 758  30   0]\n",
      " [  0   0   1 299   0]\n",
      " [  0   0   1   0 799]]\n",
      "\n"
     ]
    }
   ],
   "source": [
    "# Test set\n",
    "print(\"Number of Parameters:\", count_parameters(resnet), end='\\n\\n')\n",
    "epoch_eval(test_dl, resnet, device)"
   ]
  },
  {
   "cell_type": "code",
   "execution_count": null,
   "id": "bab91eaf-b519-4398-9469-1eda93ab1d5c",
   "metadata": {},
   "outputs": [],
   "source": [
    "# Initialize ODENet\n",
    "odenet, odeopt = get_model(net='ODENet',device=device,\n",
    "                           n_channels=32, n_inner_channels=32, \n",
    "                           kernel_size=3, num_groups=8, adam=True,\n",
    "                           rtol=1e-3, atol=1e-3)\n",
    "\n",
    "# Training Options\n",
    "max_epochs = 15\n",
    "scheduler = optim.lr_scheduler.ReduceLROnPlateau(odeopt, mode='min', factor=0.1, patience=5)\n",
    "\n",
    "# Training loop\n",
    "for i in range(max_epochs):\n",
    "    epoch(train_dl, odenet, device, odeopt, scheduler, epoch=i+1)\n",
    "    epoch_eval(val_dl, odenet, device)"
   ]
  },
  {
   "cell_type": "code",
   "execution_count": 21,
   "id": "f773e765-1b96-4fc1-9730-cac9a6982e37",
   "metadata": {},
   "outputs": [
    {
     "name": "stdout",
     "output_type": "stream",
     "text": [
      "Number of Parameters: 6885\n",
      "\n",
      "Testing\n",
      "    Test acc: 0.921\n",
      "    Test loss: 0.214\n",
      "              precision    recall  f1-score   support\n",
      "\n",
      "           0       0.87      0.87      0.87       800\n",
      "           1       0.94      0.87      0.90       800\n",
      "           2       0.95      0.94      0.94       800\n",
      "           3       0.77      0.94      0.85       300\n",
      "           4       1.00      1.00      1.00       800\n",
      "\n",
      "    accuracy                           0.92      3500\n",
      "   macro avg       0.90      0.92      0.91      3500\n",
      "weighted avg       0.92      0.92      0.92      3500\n",
      "\n",
      "[[696  43  18  43   0]\n",
      " [ 84 696   8  12   0]\n",
      " [ 14   3 752  29   2]\n",
      " [  3   1  15 281   0]\n",
      " [  0   0   1   0 799]]\n",
      "\n"
     ]
    }
   ],
   "source": [
    "# Test set\n",
    "print(\"Number of Parameters:\", count_parameters(odenet), end='\\n\\n')\n",
    "epoch_eval(test_dl, odenet, device)"
   ]
  },
  {
   "cell_type": "code",
   "execution_count": null,
   "id": "7981e29a-c1db-4dd9-bfdd-aedb4e6291c8",
   "metadata": {},
   "outputs": [],
   "source": [
    "# Inilialize DEQNet\n",
    "deqnet, deqopt = get_model(net='DEQNet', device=device,\n",
    "                           n_channels=32, n_inner_channels=32, \n",
    "                           kernel_size=3, num_groups=8, adam=True,\n",
    "                           tol=1e-3, max_iter=50, m=5)\n",
    "\n",
    "# Trainin options\n",
    "max_epochs = 15\n",
    "scheduler = optim.lr_scheduler.ReduceLROnPlateau(deqopt, mode='min', factor=0.1, patience=5)\n",
    "\n",
    "# Training loop\n",
    "for i in range(max_epochs):\n",
    "    epoch(train_dl, deqnet, device, deqopt, scheduler, epoch=i+1)\n",
    "    epoch_eval(val_dl, deqnet, device)"
   ]
  },
  {
   "cell_type": "code",
   "execution_count": 25,
   "id": "e2ef7dcb-3b16-4e0f-8191-38246276c3f7",
   "metadata": {},
   "outputs": [
    {
     "name": "stdout",
     "output_type": "stream",
     "text": [
      "Number of Parameters: 6757\n",
      "\n",
      "Testing\n",
      "    Test acc: 0.927\n",
      "    Test loss: 0.21\n",
      "              precision    recall  f1-score   support\n",
      "\n",
      "           0       0.85      0.91      0.88       800\n",
      "           1       0.95      0.85      0.90       800\n",
      "           2       0.96      0.94      0.95       800\n",
      "           3       0.84      0.96      0.89       300\n",
      "           4       0.99      1.00      1.00       800\n",
      "\n",
      "    accuracy                           0.93      3500\n",
      "   macro avg       0.92      0.93      0.92      3500\n",
      "weighted avg       0.93      0.93      0.93      3500\n",
      "\n",
      "[[726  35  11  23   5]\n",
      " [101 684  10   5   0]\n",
      " [ 24   1 748  27   0]\n",
      " [  4   0   9 287   0]\n",
      " [  0   0   1   0 799]]\n",
      "\n"
     ]
    }
   ],
   "source": [
    "# Test set\n",
    "print(\"Number of Parameters:\", count_parameters(deqnet), end='\\n\\n')\n",
    "epoch_eval(test_dl, deqnet, device)"
   ]
  }
 ],
 "metadata": {
  "kernelspec": {
   "display_name": "Python 3 (ipykernel)",
   "language": "python",
   "name": "python3"
  },
  "language_info": {
   "codemirror_mode": {
    "name": "ipython",
    "version": 3
   },
   "file_extension": ".py",
   "mimetype": "text/x-python",
   "name": "python",
   "nbconvert_exporter": "python",
   "pygments_lexer": "ipython3",
   "version": "3.11.4"
  }
 },
 "nbformat": 4,
 "nbformat_minor": 5
}
